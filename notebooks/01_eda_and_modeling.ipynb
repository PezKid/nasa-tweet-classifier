{
 "cells": [
  {
   "cell_type": "code",
   "id": "930748f8-bde7-4231-a8a9-345e7859ae49",
   "metadata": {
    "ExecuteTime": {
     "end_time": "2025-08-07T00:49:13.061171Z",
     "start_time": "2025-08-07T00:49:12.302233Z"
    }
   },
   "source": [
    "from datasets import load_dataset\n",
    "\n",
    "# Load the tweet-topic dataset from Hugging Face\n",
    "dataset = load_dataset(\"cardiffnlp/tweet_topic_multi\")\n",
    "\n",
    "# Separate splits\n",
    "train_ds = dataset[\"train_2021\"]\n",
    "test_ds = dataset[\"test_2021\"]\n",
    "val_ds = dataset[\"validation_2021\"]\n",
    "\n",
    "# View an example\n",
    "train_ds[0]"
   ],
   "outputs": [
    {
     "data": {
      "text/plain": [
       "{'text': 'Barbara Bailey is the queen of broadcast news in central & eastern Kentucky    After growing up watching her anchor the news, it was a great honor to call her coworker & friend. I loved saying “back to you, Barb” while reporting.  Cheers, {{USERNAME}} {{URL}} ',\n",
       " 'date': '2020-09-04',\n",
       " 'label': [0, 0, 0, 0, 0, 0, 1, 0, 0, 0, 0, 0, 1, 0, 0, 0, 0, 0, 0],\n",
       " 'label_name': ['film_tv_&_video', 'news_&_social_concern'],\n",
       " 'id': '1301943102094139393'}"
      ]
     },
     "execution_count": 5,
     "metadata": {},
     "output_type": "execute_result"
    }
   ],
   "execution_count": 5
  }
 ],
 "metadata": {
  "kernelspec": {
   "display_name": "Python 3 (ipykernel)",
   "language": "python",
   "name": "python3"
  },
  "language_info": {
   "codemirror_mode": {
    "name": "ipython",
    "version": 3
   },
   "file_extension": ".py",
   "mimetype": "text/x-python",
   "name": "python",
   "nbconvert_exporter": "python",
   "pygments_lexer": "ipython3",
   "version": "3.13.0"
  }
 },
 "nbformat": 4,
 "nbformat_minor": 5
}
